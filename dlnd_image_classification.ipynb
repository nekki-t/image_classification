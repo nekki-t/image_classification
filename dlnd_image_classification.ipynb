{
 "cells": [
  {
   "cell_type": "markdown",
   "metadata": {
    "collapsed": true
   },
   "source": [
    "# Image Classification\n",
    "In this project, you'll classify images from the [CIFAR-10 dataset](https://www.cs.toronto.edu/~kriz/cifar.html).  The dataset consists of airplanes, dogs, cats, and other objects. You'll preprocess the images, then train a convolutional neural network on all the samples. The images need to be normalized and the labels need to be one-hot encoded.  You'll get to apply what you learned and build a convolutional, max pooling, dropout, and fully connected layers.  At the end, you'll get to see your neural network's predictions on the sample images.\n",
    "## Get the Data\n",
    "Run the following cell to download the [CIFAR-10 dataset for python](https://www.cs.toronto.edu/~kriz/cifar-10-python.tar.gz)."
   ]
  },
  {
   "cell_type": "code",
   "execution_count": 2,
   "metadata": {
    "collapsed": false
   },
   "outputs": [
    {
     "name": "stderr",
     "output_type": "stream",
     "text": [
      "CIFAR-10 Dataset: 171MB [02:01, 1.40MB/s]                              \n"
     ]
    },
    {
     "name": "stdout",
     "output_type": "stream",
     "text": [
      "All files found!\n"
     ]
    }
   ],
   "source": [
    "\"\"\"\n",
    "DON'T MODIFY ANYTHING IN THIS CELL THAT IS BELOW THIS LINE\n",
    "\"\"\"\n",
    "from urllib.request import urlretrieve\n",
    "from os.path import isfile, isdir\n",
    "from tqdm import tqdm\n",
    "import problem_unittests as tests\n",
    "import tarfile\n",
    "\n",
    "cifar10_dataset_folder_path = 'cifar-10-batches-py'\n",
    "\n",
    "class DLProgress(tqdm):\n",
    "    last_block = 0\n",
    "\n",
    "    def hook(self, block_num=1, block_size=1, total_size=None):\n",
    "        self.total = total_size\n",
    "        self.update((block_num - self.last_block) * block_size)\n",
    "        self.last_block = block_num\n",
    "\n",
    "if not isfile('cifar-10-python.tar.gz'):\n",
    "    with DLProgress(unit='B', unit_scale=True, miniters=1, desc='CIFAR-10 Dataset') as pbar:\n",
    "        urlretrieve(\n",
    "            'https://www.cs.toronto.edu/~kriz/cifar-10-python.tar.gz',\n",
    "            'cifar-10-python.tar.gz',\n",
    "            pbar.hook)\n",
    "\n",
    "if not isdir(cifar10_dataset_folder_path):\n",
    "    with tarfile.open('cifar-10-python.tar.gz') as tar:\n",
    "        tar.extractall()\n",
    "        tar.close()\n",
    "\n",
    "\n",
    "tests.test_folder_path(cifar10_dataset_folder_path)"
   ]
  },
  {
   "cell_type": "markdown",
   "metadata": {},
   "source": [
    "## Explore the Data\n",
    "The dataset is broken into batches to prevent your machine from running out of memory.  The CIFAR-10 dataset consists of 5 batches, named `data_batch_1`, `data_batch_2`, etc.. Each batch contains the labels and images that are one of the following:\n",
    "* airplane\n",
    "* automobile\n",
    "* bird\n",
    "* cat\n",
    "* deer\n",
    "* dog\n",
    "* frog\n",
    "* horse\n",
    "* ship\n",
    "* truck\n",
    "\n",
    "Understanding a dataset is part of making predictions on the data.  Play around with the code cell below by changing the `batch_id` and `sample_id`. The `batch_id` is the id for a batch (1-5). The `sample_id` is the id for a image and label pair in the batch.\n",
    "\n",
    "Ask yourself \"What are all possible labels?\", \"What is the range of values for the image data?\", \"Are the labels in order or random?\".  Answers to questions like these will help you preprocess the data and end up with better predictions."
   ]
  },
  {
   "cell_type": "code",
   "execution_count": 3,
   "metadata": {
    "collapsed": false
   },
   "outputs": [
    {
     "name": "stdout",
     "output_type": "stream",
     "text": [
      "\n",
      "Stats of batch 1:\n",
      "Samples: 10000\n",
      "Label Counts: {0: 1005, 1: 974, 2: 1032, 3: 1016, 4: 999, 5: 937, 6: 1030, 7: 1001, 8: 1025, 9: 981}\n",
      "First 20 Labels: [6, 9, 9, 4, 1, 1, 2, 7, 8, 3, 4, 7, 7, 2, 9, 9, 9, 3, 2, 6]\n",
      "\n",
      "Example of Image 5:\n",
      "Image - Min Value: 0 Max Value: 252\n",
      "Image - Shape: (32, 32, 3)\n",
      "Label - Label Id: 1 Name: automobile\n"
     ]
    },
    {
     "data": {
      "image/png": "[encoded data removed]",
      "text/plain": [
       "<matplotlib.figure.Figure at 0x116c49a58>"
      ]
     },
     "metadata": {
      "image/png": {
       "height": 250,
       "width": 253
      }
     },
     "output_type": "display_data"
    }
   ],
   "source": [
    "%matplotlib inline\n",
    "%config InlineBackend.figure_format = 'retina'\n",
    "\n",
    "import helper\n",
    "import numpy as np\n",
    "\n",
    "# Explore the dataset\n",
    "batch_id = 1\n",
    "sample_id = 5\n",
    "helper.display_stats(cifar10_dataset_folder_path, batch_id, sample_id)"
   ]
  },
  {
   "cell_type": "markdown",
   "metadata": {},
   "source": [
    "## Implement Preprocess Functions\n",
    "### Normalize\n",
    "In the cell below, implement the `normalize` function to take in image data, `x`, and return it as a normalized Numpy array. The values should be in the range of 0 to 1, inclusive.  The return object should be the same shape as `x`."
   ]
  },
  {
   "cell_type": "code",
   "execution_count": 13,
   "metadata": {
    "collapsed": false
   },
   "outputs": [
    {
     "name": "stdout",
     "output_type": "stream",
     "text": [
      "Tests Passed\n"
     ]
    }
   ],
   "source": [
    "def normalize(x):\n",
    "    \"\"\"\n",
    "    Normalize a list of sample image data in the range of 0 to 1\n",
    "    : x: List of image data.  The image shape is (32, 32, 3)\n",
    "    : return: Numpy array of normalize data\n",
    "    \"\"\"\n",
    "    # TODO: Implement Function\n",
    "    result = x / 255.0\n",
    "    #print(result)\n",
    "    \n",
    "    return result\n",
    "\n",
    "\n",
    "\"\"\"\n",
    "DON'T MODIFY ANYTHING IN THIS CELL THAT IS BELOW THIS LINE\n",
    "\"\"\"\n",
    "tests.test_normalize(normalize)"
   ]
  },
  {
   "cell_type": "markdown",
   "metadata": {},
   "source": [
    "### One-hot encode\n",
    "Just like the previous code cell, you'll be implementing a function for preprocessing.  This time, you'll implement the `one_hot_encode` function. The input, `x`, are a list of labels.  Implement the function to return the list of labels as One-Hot encoded Numpy array.  The possible values for labels are 0 to 9. The one-hot encoding function should return the same encoding for each value between each call to `one_hot_encode`.  Make sure to save the map of encodings outside the function.\n",
    "\n",
    "Hint: Don't reinvent the wheel."
   ]
  },
  {
   "cell_type": "code",
   "execution_count": 26,
   "metadata": {
    "collapsed": false
   },
   "outputs": [
    {
     "name": "stdout",
     "output_type": "stream",
     "text": [
      "Tests Passed\n"
     ]
    }
   ],
   "source": [
    "def one_hot_encode(x):\n",
    "    \"\"\"\n",
    "    One hot encode a list of sample labels. Return a one-hot encoded vector for each label.\n",
    "    : x: List of sample Labels\n",
    "    : return: Numpy array of one-hot encoded labels\n",
    "    \"\"\"\n",
    "    # TODO: Implement Function\n",
    "    oh_out = np.zeros((len(x), 10))\n",
    "    for idx in range(len(x)):\n",
    "        oh_out[idx].put(x[idx], 1)\n",
    "    #print(oh_out)\n",
    "    return oh_out\n",
    "\n",
    "\n",
    "\"\"\"\n",
    "DON'T MODIFY ANYTHING IN THIS CELL THAT IS BELOW THIS LINE\n",
    "\"\"\"\n",
    "tests.test_one_hot_encode(one_hot_encode)"
   ]
  },
  {
   "cell_type": "markdown",
   "metadata": {},
   "source": [
    "### Randomize Data\n",
    "As you saw from exploring the data above, the order of the samples are randomized.  It doesn't hurt to randomize it again, but you don't need to for this dataset."
   ]
  },
  {
   "cell_type": "markdown",
   "metadata": {},
   "source": [
    "## Preprocess all the data and save it\n",
    "Running the code cell below will preprocess all the CIFAR-10 data and save it to file. The code below also uses 10% of the training data for validation."
   ]
  },
  {
   "cell_type": "code",
   "execution_count": 27,
   "metadata": {
    "collapsed": false
   },
   "outputs": [],
   "source": [
    "\"\"\"\n",
    "DON'T MODIFY ANYTHING IN THIS CELL\n",
    "\"\"\"\n",
    "# Preprocess Training, Validation, and Testing Data\n",
    "helper.preprocess_and_save_data(cifar10_dataset_folder_path, normalize, one_hot_encode)"
   ]
  },
  {
   "cell_type": "markdown",
   "metadata": {},
   "source": [
    "# Check Point\n",
    "This is your first checkpoint.  If you ever decide to come back to this notebook or have to restart the notebook, you can start from here.  The preprocessed data has been saved to disk."
   ]
  },
  {
   "cell_type": "code",
   "execution_count": 77,
   "metadata": {
    "collapsed": true
   },
   "outputs": [],
   "source": [
    "\"\"\"\n",
    "DON'T MODIFY ANYTHING IN THIS CELL\n",
    "\"\"\"\n",
    "import pickle\n",
    "import problem_unittests as tests\n",
    "import helper\n",
    "\n",
    "# Load the Preprocessed Validation data\n",
    "valid_features, valid_labels = pickle.load(open('preprocess_validation.p', mode='rb'))"
   ]
  },
  {
   "cell_type": "markdown",
   "metadata": {},
   "source": [
    "## Build the network\n",
    "For the neural network, you'll build each layer into a function.  Most of the code you've seen has been outside of functions. To test your code more thoroughly, we require that you put each layer in a function.  This allows us to give you better feedback and test for simple mistakes using our unittests before you submit your project.\n",
    "\n",
    "If you're finding it hard to dedicate enough time for this course a week, we've provided a small shortcut to this part of the project. In the next couple of problems, you'll have the option to use [TensorFlow Layers](https://www.tensorflow.org/api_docs/python/tf/layers) or [TensorFlow Layers (contrib)](https://www.tensorflow.org/api_guides/python/contrib.layers) to build each layer, except \"Convolutional & Max Pooling\" layer.  TF Layers is similar to Keras's and TFLearn's abstraction to layers, so it's easy to pickup.\n",
    "\n",
    "If you would like to get the most of this course, try to solve all the problems without TF Layers.  Let's begin!\n",
    "### Input\n",
    "The neural network needs to read the image data, one-hot encoded labels, and dropout keep probability. Implement the following functions\n",
    "* Implement `neural_net_image_input`\n",
    " * Return a [TF Placeholder](https://www.tensorflow.org/api_docs/python/tf/placeholder)\n",
    " * Set the shape using `image_shape` with batch size set to `None`.\n",
    " * Name the TensorFlow placeholder \"x\" using the TensorFlow `name` parameter in the [TF Placeholder](https://www.tensorflow.org/api_docs/python/tf/placeholder).\n",
    "* Implement `neural_net_label_input`\n",
    " * Return a [TF Placeholder](https://www.tensorflow.org/api_docs/python/tf/placeholder)\n",
    " * Set the shape using `n_classes` with batch size set to `None`.\n",
    " * Name the TensorFlow placeholder \"y\" using the TensorFlow `name` parameter in the [TF Placeholder](https://www.tensorflow.org/api_docs/python/tf/placeholder).\n",
    "* Implement `neural_net_keep_prob_input`\n",
    " * Return a [TF Placeholder](https://www.tensorflow.org/api_docs/python/tf/placeholder) for dropout keep probability.\n",
    " * Name the TensorFlow placeholder \"keep_prob\" using the TensorFlow `name` parameter in the [TF Placeholder](https://www.tensorflow.org/api_docs/python/tf/placeholder).\n",
    "\n",
    "These names will be used at the end of the project to load your saved model.\n",
    "\n",
    "Note: `None` for shapes in TensorFlow allow for a dynamic size."
   ]
  },
  {
   "cell_type": "code",
   "execution_count": 143,
   "metadata": {
    "collapsed": false
   },
   "outputs": [
    {
     "name": "stdout",
     "output_type": "stream",
     "text": [
      "Image Input Tests Passed.\n",
      "Label Input Tests Passed.\n",
      "Keep Prob Tests Passed.\n"
     ]
    }
   ],
   "source": [
    "import tensorflow as tf\n",
    "\n",
    "def neural_net_image_input(image_shape):\n",
    "    \"\"\"\n",
    "    Return a Tensor for a bach of image input\n",
    "    : image_shape: Shape of the images\n",
    "    : return: Tensor for image input.\n",
    "    \"\"\"\n",
    "    # TODO: Implement Function\n",
    "    tfph = tf.placeholder(tf.float32, shape=[None, image_shape[0], image_shape[1], image_shape[2]], name='x')\n",
    "    return tfph\n",
    "\n",
    "\n",
    "def neural_net_label_input(n_classes):\n",
    "    \"\"\"\n",
    "    Return a Tensor for a batch of label input\n",
    "    : n_classes: Number of classes\n",
    "    : return: Tensor for label input.\n",
    "    \"\"\"\n",
    "    #print(n_classes)\n",
    "    tfph = tf.placeholder(tf.float32, shape=[None, n_classes], name='y')\n",
    "    return tfph\n",
    "\n",
    "\n",
    "def neural_net_keep_prob_input():\n",
    "    \"\"\"\n",
    "    Return a Tensor for keep probability\n",
    "    : return: Tensor for keep probability.\n",
    "    \"\"\"\n",
    "    # TODO: Implement Function\n",
    "    return tf.placeholder(tf.float32, name='keep_prob')\n",
    "\n",
    "\n",
    "\"\"\"\n",
    "DON'T MODIFY ANYTHING IN THIS CELL THAT IS BELOW THIS LINE\n",
    "\"\"\"\n",
    "tf.reset_default_graph()\n",
    "tests.test_nn_image_inputs(neural_net_image_input)\n",
    "tests.test_nn_label_inputs(neural_net_label_input)\n",
    "tests.test_nn_keep_prob_inputs(neural_net_keep_prob_input)"
   ]
  },
  {
   "cell_type": "markdown",
   "metadata": {},
   "source": [
    "### Convolution and Max Pooling Layer\n",
    "Convolution layers have a lot of success with images. For this code cell, you should implement the function `conv2d_maxpool` to apply convolution then max pooling:\n",
    "* Create the weight and bias using `conv_ksize`, `conv_num_outputs` and the shape of `x_tensor`.\n",
    "* Apply a convolution to `x_tensor` using weight and `conv_strides`.\n",
    " * We recommend you use same padding, but you're welcome to use any padding.\n",
    "* Add bias\n",
    "* Add a nonlinear activation to the convolution.\n",
    "* Apply Max Pooling using `pool_ksize` and `pool_strides`.\n",
    " * We recommend you use same padding, but you're welcome to use any padding.\n",
    "\n",
    "Note: You **can't** use [TensorFlow Layers](https://www.tensorflow.org/api_docs/python/tf/layers) or [TensorFlow Layers (contrib)](https://www.tensorflow.org/api_guides/python/contrib.layers) for this layer.  You're free to use any TensorFlow package for all the other layers."
   ]
  },
  {
   "cell_type": "code",
   "execution_count": 294,
   "metadata": {
    "collapsed": false
   },
   "outputs": [
    {
     "name": "stdout",
     "output_type": "stream",
     "text": [
      "Tests Passed\n"
     ]
    }
   ],
   "source": [
    "def conv2d_maxpool(x_tensor, conv_num_outputs, conv_ksize, conv_strides, pool_ksize, pool_strides):\n",
    "    \"\"\"\n",
    "    Apply convolution then max pooling to x_tensor\n",
    "    :param x_tensor: TensorFlow Tensor\n",
    "    :param conv_num_outputs: Number of outputs for the convolutional layer\n",
    "    :param conv_strides: Stride 2-D Tuple for convolution\n",
    "    :param pool_ksize: kernal size 2-D Tuple for pool\n",
    "    :param pool_strides: Stride 2-D Tuple for pool\n",
    "    : return: A tensor that represents convolution and max pooling of x_tensor\n",
    "    \"\"\"\n",
    "    # TODO: Implement Function\n",
    " \n",
    "    #filter\n",
    "    f_h = conv_ksize[0]\n",
    "    f_w = conv_ksize[1]\n",
    "    \n",
    "    f_c = (x_tensor.get_shape().as_list()[3])\n",
    "    \n",
    "    conv_shape = [f_h, f_w, f_c, conv_num_outputs]\n",
    "    weights = tf.Variable(tf.truncated_normal(shape=conv_shape, mean=0.0, stddev=0.1))\n",
    "    biases = tf.Variable(tf.zeros([conv_num_outputs]))\n",
    "    \n",
    "    #conv\n",
    "    conv = tf.nn.conv2d(x_tensor, weights, [1, conv_strides[0], conv_strides[1], 1], padding='SAME')\n",
    "    bias = tf.nn.bias_add(conv, biases)\n",
    "    conv_relu = tf.nn.relu(bias)\n",
    "    \n",
    "    #max pool\n",
    "    pool = tf.nn.max_pool(conv_relu, ksize=[1, pool_ksize[0], pool_ksize[1], 1], strides=[1, pool_strides[0], pool_strides[1], 1], padding='SAME')\n",
    "    return pool\n",
    "\"\"\"\n",
    "DON'T MODIFY ANYTHING IN THIS CELL THAT IS BELOW THIS LINE\n",
    "\"\"\"\n",
    "tests.test_con_pool(conv2d_maxpool)"
   ]
  },
  {
   "cell_type": "markdown",
   "metadata": {},
   "source": [
    "### Flatten Layer\n",
    "Implement the `flatten` function to change the dimension of `x_tensor` from a 4-D tensor to a 2-D tensor.  The output should be the shape (*Batch Size*, *Flattened Image Size*). You can use [TensorFlow Layers](https://www.tensorflow.org/api_docs/python/tf/layers) or [TensorFlow Layers (contrib)](https://www.tensorflow.org/api_guides/python/contrib.layers) for this layer."
   ]
  },
  {
   "cell_type": "code",
   "execution_count": 295,
   "metadata": {
    "collapsed": false
   },
   "outputs": [
    {
     "name": "stdout",
     "output_type": "stream",
     "text": [
      "Tests Passed\n"
     ]
    }
   ],
   "source": [
    "def flatten(x_tensor):\n",
    "    \"\"\"\n",
    "    Flatten x_tensor to (Batch Size, Flattened Image Size)\n",
    "    : x_tensor: A tensor of size (Batch Size, ...), where ... are the image dimensions.\n",
    "    : return: A tensor of size (Batch Size, Flattened Image Size).\n",
    "    \"\"\"\n",
    "    # TODO: Implement Function    \n",
    "    shape = x_tensor.get_shape()\n",
    "    flat_shape = shape[1:4].num_elements()\n",
    "    result = tf.reshape(x_tensor, [-1, flat_shape])\n",
    "    \n",
    "    return result\n",
    "\n",
    "\n",
    "\"\"\"\n",
    "DON'T MODIFY ANYTHING IN THIS CELL THAT IS BELOW THIS LINE\n",
    "\"\"\"\n",
    "tests.test_flatten(flatten)"
   ]
  },
  {
   "cell_type": "markdown",
   "metadata": {},
   "source": [
    "### Fully-Connected Layer\n",
    "Implement the `fully_conn` function to apply a fully connected layer to `x_tensor` with the shape (*Batch Size*, *num_outputs*). You can use [TensorFlow Layers](https://www.tensorflow.org/api_docs/python/tf/layers) or [TensorFlow Layers (contrib)](https://www.tensorflow.org/api_guides/python/contrib.layers) for this layer."
   ]
  },
  {
   "cell_type": "code",
   "execution_count": 297,
   "metadata": {
    "collapsed": false
   },
   "outputs": [
    {
     "name": "stdout",
     "output_type": "stream",
     "text": [
      "Tests Passed\n"
     ]
    }
   ],
   "source": [
    "def fully_conn(x_tensor, num_outputs):\n",
    "    \"\"\"\n",
    "    Apply a fully connected layer to x_tensor using weight and bias\n",
    "    : x_tensor: A 2-D tensor where the first dimension is batch size.\n",
    "    : num_outputs: The number of output that the new tensor should be.\n",
    "    : return: A 2-D tensor where the second dimension is num_outputs.\n",
    "    \"\"\"\n",
    "    # TODO: Implement Function\n",
    "    shape = x_tensor.get_shape()\n",
    "    fc_shape = (shape.as_list()[1], num_outputs)\n",
    "    weights = tf.Variable(tf.truncated_normal(shape=fc_shape, mean=0.0, stddev=0.1))\n",
    "    biases = tf.Variable(tf.zeros([num_outputs]))\n",
    "    fc = tf.nn.relu(tf.add(tf.matmul(x_tensor, weights), biases))\n",
    "    \n",
    "    return fc\n",
    "\n",
    "\"\"\"\n",
    "DON'T MODIFY ANYTHING IN THIS CELL THAT IS BELOW THIS LINE\n",
    "\"\"\"\n",
    "tests.test_fully_conn(fully_conn)"
   ]
  },
  {
   "cell_type": "markdown",
   "metadata": {},
   "source": [
    "### Output Layer\n",
    "Implement the `output` function to apply a fully connected layer to `x_tensor` with the shape (*Batch Size*, *num_outputs*). You can use [TensorFlow Layers](https://www.tensorflow.org/api_docs/python/tf/layers) or [TensorFlow Layers (contrib)](https://www.tensorflow.org/api_guides/python/contrib.layers) for this layer.\n",
    "\n",
    "Note: Activation, softmax, or cross entropy shouldn't be applied to this."
   ]
  },
  {
   "cell_type": "code",
   "execution_count": 298,
   "metadata": {
    "collapsed": false
   },
   "outputs": [
    {
     "name": "stdout",
     "output_type": "stream",
     "text": [
      "Tests Passed\n"
     ]
    }
   ],
   "source": [
    "def output(x_tensor, num_outputs):\n",
    "    \"\"\"\n",
    "    Apply a output layer to x_tensor using weight and bias\n",
    "    : x_tensor: A 2-D tensor where the first dimension is batch size.\n",
    "    : num_outputs: The number of output that the new tensor should be.\n",
    "    : return: A 2-D tensor where the second dimension is num_outputs.\n",
    "    \"\"\"\n",
    "    # TODO: Implement Function\n",
    "    shape = x_tensor.get_shape()\n",
    "    out_shape = (shape.as_list()[1], num_outputs)\n",
    "    weights = tf.Variable(tf.truncated_normal(shape=out_shape, mean=0.0, stddev=0.1))\n",
    "    biases = tf.Variable(tf.zeros([num_outputs]))\n",
    "    \n",
    "    return tf.add(tf.matmul(x_tensor, weights), biases)\n",
    "\n",
    "\n",
    "\"\"\"\n",
    "DON'T MODIFY ANYTHING IN THIS CELL THAT IS BELOW THIS LINE\n",
    "\"\"\"\n",
    "tests.test_output(output)"
   ]
  },
  {
   "cell_type": "markdown",
   "metadata": {},
   "source": [
    "### Create Convolutional Model\n",
    "Implement the function `conv_net` to create a convolutional neural network model. The function takes in a batch of images, `x`, and outputs logits.  Use the layers you created above to create this model:\n",
    "\n",
    "* Apply 1, 2, or 3 Convolution and Max Pool layers\n",
    "* Apply a Flatten Layer\n",
    "* Apply 1, 2, or 3 Fully Connected Layers\n",
    "* Apply an Output Layer\n",
    "* Return the output\n",
    "* Apply [TensorFlow's Dropout](https://www.tensorflow.org/api_docs/python/tf/nn/dropout) to one or more layers in the model using `keep_prob`. "
   ]
  },
  {
   "cell_type": "code",
   "execution_count": 468,
   "metadata": {
    "collapsed": false
   },
   "outputs": [
    {
     "name": "stdout",
     "output_type": "stream",
     "text": [
      "Neural Network Built!\n"
     ]
    }
   ],
   "source": [
    "def conv_net(x, keep_prob):\n",
    "    \"\"\"\n",
    "    Create a convolutional neural network model\n",
    "    : x: Placeholder tensor that holds image data.\n",
    "    : keep_prob: Placeholder tensor that hold dropout keep probability.\n",
    "    : return: Tensor that represents logits\n",
    "    \"\"\"\n",
    "    # TODO: Apply 1, 2, or 3 Convolution and Max Pool layers\n",
    "    #    Play around with different number of outputs, kernel size and stride\n",
    "    # Function Definition from Above:\n",
    "    #    conv2d_maxpool(x_tensor, conv_num_outputs, conv_ksize, conv_strides, pool_ksize, pool_strides)\n",
    "    \n",
    "    conv1_num_outputs = 8\n",
    "    conv2_num_outputs = 16\n",
    "    conv3_num_outputs = 64\n",
    "    conv_ksize = (4, 4)\n",
    "    conv_strides = (1, 1)\n",
    "    pool_ksize = (2, 2)\n",
    "    pool_strides = (2, 2)\n",
    "    \n",
    "    conv1 = conv2d_maxpool(x, conv1_num_outputs, conv_ksize, conv_strides, pool_ksize, pool_strides)\n",
    "    conv2 = conv2d_maxpool(conv1, conv2_num_outputs, conv_ksize, conv_strides, pool_ksize, pool_strides)\n",
    "    conv3 = conv2d_maxpool(conv2, conv3_num_outputs, conv_ksize, conv_strides, pool_ksize, pool_strides)\n",
    "    # TODO: Apply a Flatten Layer\n",
    "    # Function Definition from Above:\n",
    "    #   flatten(x_tensor)\n",
    "    flattened = flatten(conv3)\n",
    "    \n",
    "\n",
    "    # TODO: Apply 1, 2, or 3 Fully Connected Layers\n",
    "    #    Play around with different number of outputs\n",
    "    # Function Definition from Above:\n",
    "    #   fully_conn(x_tensor, num_outputs)\n",
    "    fc1 = tf.nn.dropout(fully_conn(flattened, 512), keep_prob)\n",
    "    fc2 = tf.nn.dropout(fully_conn(fc1, 256), keep_prob)\n",
    "    fc3 = tf.nn.dropout(fully_conn(fc2, 128), keep_prob)\n",
    "    \n",
    "    # TODO: Apply an Output Layer\n",
    "    #    Set this to the number of classes\n",
    "    # Function Definition from Above:\n",
    "    #   output(x_tensor, num_outputs)\n",
    "    o = output(fc3, 10)\n",
    "    \n",
    "    # TODO: return output\n",
    "    return o\n",
    "\n",
    "\n",
    "\"\"\"\n",
    "DON'T MODIFY ANYTHING IN THIS CELL THAT IS BELOW THIS LINE\n",
    "\"\"\"\n",
    "\n",
    "##############################\n",
    "## Build the Neural Network ##\n",
    "##############################\n",
    "\n",
    "# Remove previous weights, bias, inputs, etc..\n",
    "tf.reset_default_graph()\n",
    "\n",
    "# Inputs\n",
    "x = neural_net_image_input((32, 32, 3))\n",
    "y = neural_net_label_input(10)\n",
    "keep_prob = neural_net_keep_prob_input()\n",
    "\n",
    "# Model\n",
    "logits = conv_net(x, keep_prob)\n",
    "\n",
    "# Name logits Tensor, so that is can be loaded from disk after training\n",
    "logits = tf.identity(logits, name='logits')\n",
    "\n",
    "# Loss and Optimizer\n",
    "cost = tf.reduce_mean(tf.nn.softmax_cross_entropy_with_logits(logits=logits, labels=y))\n",
    "optimizer = tf.train.AdamOptimizer().minimize(cost)\n",
    "\n",
    "# Accuracy\n",
    "correct_pred = tf.equal(tf.argmax(logits, 1), tf.argmax(y, 1))\n",
    "accuracy = tf.reduce_mean(tf.cast(correct_pred, tf.float32), name='accuracy')\n",
    "\n",
    "tests.test_conv_net(conv_net)"
   ]
  },
  {
   "cell_type": "markdown",
   "metadata": {},
   "source": [
    "## Train the Neural Network\n",
    "### Single Optimization\n",
    "Implement the function `train_neural_network` to do a single optimization.  The optimization should use `optimizer` to optimize in `session` with a `feed_dict` of the following:\n",
    "* `x` for image input\n",
    "* `y` for labels\n",
    "* `keep_prob` for keep probability for dropout\n",
    "\n",
    "This function will be called for each batch, so `tf.global_variables_initializer()` has already been called.\n",
    "\n",
    "Note: Nothing needs to be returned. This function is only optimizing the neural network."
   ]
  },
  {
   "cell_type": "code",
   "execution_count": 469,
   "metadata": {
    "collapsed": false
   },
   "outputs": [
    {
     "name": "stdout",
     "output_type": "stream",
     "text": [
      "Tests Passed\n"
     ]
    }
   ],
   "source": [
    "def train_neural_network(session, optimizer, keep_probability, feature_batch, label_batch):\n",
    "    \"\"\"\n",
    "    Optimize the session on a batch of images and labels\n",
    "    : session: Current TensorFlow session\n",
    "    : optimizer: TensorFlow optimizer function\n",
    "    : keep_probability: keep probability\n",
    "    : feature_batch: Batch of Numpy image data\n",
    "    : label_batch: Batch of Numpy label data\n",
    "    \"\"\"\n",
    "    # TODO: Implement Function\n",
    "    session.run(optimizer, feed_dict={x: feature_batch, y: label_batch, keep_prob: keep_probability})\n",
    "\n",
    "\n",
    "\"\"\"\n",
    "DON'T MODIFY ANYTHING IN THIS CELL THAT IS BELOW THIS LINE\n",
    "\"\"\"\n",
    "tests.test_train_nn(train_neural_network)"
   ]
  },
  {
   "cell_type": "markdown",
   "metadata": {},
   "source": [
    "### Show Stats\n",
    "Implement the function `print_stats` to print loss and validation accuracy.  Use the global variables `valid_features` and `valid_labels` to calculate validation accuracy.  Use a keep probability of `1.0` to calculate the loss and validation accuracy."
   ]
  },
  {
   "cell_type": "code",
   "execution_count": 470,
   "metadata": {
    "collapsed": false
   },
   "outputs": [],
   "source": [
    "def print_stats(session, feature_batch, label_batch, cost, accuracy):\n",
    "    \"\"\"\n",
    "    Print information about loss and validation accuracy\n",
    "    : session: Current TensorFlow session\n",
    "    : feature_batch: Batch of Numpy image data\n",
    "    : label_batch: Batch of Numpy label data\n",
    "    : cost: TensorFlow cost function\n",
    "    : accuracy: TensorFlow accuracy function\n",
    "    \"\"\"\n",
    "    # TODO: Implement Function\n",
    "    loss = session.run(cost, feed_dict={x: feature_batch, y: label_batch, keep_prob: 1.0})\n",
    "    val_acc = session.run(accuracy, feed_dict={x: valid_features, y: valid_labels, keep_prob: 1.0})\n",
    "    print(\"Loss: {:>10.4f} Validation Accuracy: {:.6f}\".format(loss, val_acc))"
   ]
  },
  {
   "cell_type": "markdown",
   "metadata": {},
   "source": [
    "### Hyperparameters\n",
    "Tune the following parameters:\n",
    "* Set `epochs` to the number of iterations until the network stops learning or start overfitting\n",
    "* Set `batch_size` to the highest number that your machine has memory for.  Most people set them to common sizes of memory:\n",
    " * 64\n",
    " * 128\n",
    " * 256\n",
    " * ...\n",
    "* Set `keep_probability` to the probability of keeping a node using dropout"
   ]
  },
  {
   "cell_type": "code",
   "execution_count": 477,
   "metadata": {
    "collapsed": true
   },
   "outputs": [],
   "source": [
    "# TODO: Tune Parameters\n",
    "epochs = 50\n",
    "batch_size = 5120\n",
    "keep_probability = 0.95"
   ]
  },
  {
   "cell_type": "markdown",
   "metadata": {},
   "source": [
    "### Train on a Single CIFAR-10 Batch\n",
    "Instead of training the neural network on all the CIFAR-10 batches of data, let's use a single batch. This should save time while you iterate on the model to get a better accuracy.  Once the final validation accuracy is 50% or greater, run the model on all the data in the next section."
   ]
  },
  {
   "cell_type": "code",
   "execution_count": 478,
   "metadata": {
    "collapsed": false
   },
   "outputs": [
    {
     "name": "stdout",
     "output_type": "stream",
     "text": [
      "Checking the Training on a Single Batch...\n",
      "Epoch  1, CIFAR-10 Batch 1:  Loss:     2.2865 Validation Accuracy: 0.150600\n",
      "Epoch  2, CIFAR-10 Batch 1:  Loss:     2.2590 Validation Accuracy: 0.158800\n",
      "Epoch  3, CIFAR-10 Batch 1:  Loss:     2.2205 Validation Accuracy: 0.175000\n",
      "Epoch  4, CIFAR-10 Batch 1:  Loss:     2.1523 Validation Accuracy: 0.230200\n",
      "Epoch  5, CIFAR-10 Batch 1:  Loss:     2.0461 Validation Accuracy: 0.273200\n",
      "Epoch  6, CIFAR-10 Batch 1:  Loss:     1.9459 Validation Accuracy: 0.291800\n",
      "Epoch  7, CIFAR-10 Batch 1:  Loss:     1.9423 Validation Accuracy: 0.295600\n",
      "Epoch  8, CIFAR-10 Batch 1:  Loss:     1.8676 Validation Accuracy: 0.321800\n",
      "Epoch  9, CIFAR-10 Batch 1:  Loss:     1.8361 Validation Accuracy: 0.332800\n",
      "Epoch 10, CIFAR-10 Batch 1:  Loss:     1.8211 Validation Accuracy: 0.340200\n",
      "Epoch 11, CIFAR-10 Batch 1:  Loss:     1.8060 Validation Accuracy: 0.338800\n",
      "Epoch 12, CIFAR-10 Batch 1:  Loss:     1.7538 Validation Accuracy: 0.357400\n",
      "Epoch 13, CIFAR-10 Batch 1:  Loss:     1.7235 Validation Accuracy: 0.376000\n",
      "Epoch 14, CIFAR-10 Batch 1:  Loss:     1.7014 Validation Accuracy: 0.370000\n",
      "Epoch 15, CIFAR-10 Batch 1:  Loss:     1.6729 Validation Accuracy: 0.382600\n",
      "Epoch 16, CIFAR-10 Batch 1:  Loss:     1.6381 Validation Accuracy: 0.388600\n",
      "Epoch 17, CIFAR-10 Batch 1:  Loss:     1.6111 Validation Accuracy: 0.403800\n",
      "Epoch 18, CIFAR-10 Batch 1:  Loss:     1.5809 Validation Accuracy: 0.404600\n",
      "Epoch 19, CIFAR-10 Batch 1:  Loss:     1.5558 Validation Accuracy: 0.414800\n",
      "Epoch 20, CIFAR-10 Batch 1:  Loss:     1.5290 Validation Accuracy: 0.423000\n",
      "Epoch 21, CIFAR-10 Batch 1:  Loss:     1.5143 Validation Accuracy: 0.430400\n",
      "Epoch 22, CIFAR-10 Batch 1:  Loss:     1.4814 Validation Accuracy: 0.437800\n",
      "Epoch 23, CIFAR-10 Batch 1:  Loss:     1.4683 Validation Accuracy: 0.447200\n",
      "Epoch 24, CIFAR-10 Batch 1:  Loss:     1.4435 Validation Accuracy: 0.447000\n",
      "Epoch 25, CIFAR-10 Batch 1:  Loss:     1.4223 Validation Accuracy: 0.456400\n",
      "Epoch 26, CIFAR-10 Batch 1:  Loss:     1.4071 Validation Accuracy: 0.458200\n",
      "Epoch 27, CIFAR-10 Batch 1:  Loss:     1.4395 Validation Accuracy: 0.447600\n",
      "Epoch 28, CIFAR-10 Batch 1:  Loss:     1.3894 Validation Accuracy: 0.464600\n",
      "Epoch 29, CIFAR-10 Batch 1:  Loss:     1.3552 Validation Accuracy: 0.474200\n",
      "Epoch 30, CIFAR-10 Batch 1:  Loss:     1.3469 Validation Accuracy: 0.475400\n",
      "Epoch 31, CIFAR-10 Batch 1:  Loss:     1.3330 Validation Accuracy: 0.482400\n",
      "Epoch 32, CIFAR-10 Batch 1:  Loss:     1.3054 Validation Accuracy: 0.482600\n",
      "Epoch 33, CIFAR-10 Batch 1:  Loss:     1.2919 Validation Accuracy: 0.491600\n",
      "Epoch 34, CIFAR-10 Batch 1:  Loss:     1.2826 Validation Accuracy: 0.484600\n",
      "Epoch 35, CIFAR-10 Batch 1:  Loss:     1.2594 Validation Accuracy: 0.497400\n",
      "Epoch 36, CIFAR-10 Batch 1:  Loss:     1.2428 Validation Accuracy: 0.495000\n",
      "Epoch 37, CIFAR-10 Batch 1:  Loss:     1.2348 Validation Accuracy: 0.499800\n",
      "Epoch 38, CIFAR-10 Batch 1:  Loss:     1.2094 Validation Accuracy: 0.501400\n",
      "Epoch 39, CIFAR-10 Batch 1:  Loss:     1.2030 Validation Accuracy: 0.510400\n",
      "Epoch 40, CIFAR-10 Batch 1:  Loss:     1.1749 Validation Accuracy: 0.505600\n",
      "Epoch 41, CIFAR-10 Batch 1:  Loss:     1.1605 Validation Accuracy: 0.512200\n",
      "Epoch 42, CIFAR-10 Batch 1:  Loss:     1.1427 Validation Accuracy: 0.514200\n",
      "Epoch 43, CIFAR-10 Batch 1:  Loss:     1.1463 Validation Accuracy: 0.515800\n",
      "Epoch 44, CIFAR-10 Batch 1:  Loss:     1.1158 Validation Accuracy: 0.516000\n",
      "Epoch 45, CIFAR-10 Batch 1:  Loss:     1.1218 Validation Accuracy: 0.516600\n",
      "Epoch 46, CIFAR-10 Batch 1:  Loss:     1.0950 Validation Accuracy: 0.520400\n",
      "Epoch 47, CIFAR-10 Batch 1:  Loss:     1.0799 Validation Accuracy: 0.524800\n",
      "Epoch 48, CIFAR-10 Batch 1:  Loss:     1.0769 Validation Accuracy: 0.516200\n",
      "Epoch 49, CIFAR-10 Batch 1:  Loss:     1.0498 Validation Accuracy: 0.529000\n",
      "Epoch 50, CIFAR-10 Batch 1:  Loss:     1.0396 Validation Accuracy: 0.523200\n"
     ]
    }
   ],
   "source": [
    "\"\"\"\n",
    "DON'T MODIFY ANYTHING IN THIS CELL\n",
    "\"\"\"\n",
    "print('Checking the Training on a Single Batch...')\n",
    "with tf.Session() as sess:\n",
    "    # Initializing the variables\n",
    "    sess.run(tf.global_variables_initializer())\n",
    "    \n",
    "    # Training cycle\n",
    "    for epoch in range(epochs):\n",
    "        batch_i = 1\n",
    "        for batch_features, batch_labels in helper.load_preprocess_training_batch(batch_i, batch_size):\n",
    "            train_neural_network(sess, optimizer, keep_probability, batch_features, batch_labels)\n",
    "        print('Epoch {:>2}, CIFAR-10 Batch {}:  '.format(epoch + 1, batch_i), end='')\n",
    "        print_stats(sess, batch_features, batch_labels, cost, accuracy)"
   ]
  },
  {
   "cell_type": "markdown",
   "metadata": {},
   "source": [
    "### Fully Train the Model\n",
    "Now that you got a good accuracy with a single CIFAR-10 batch, try it with all five batches."
   ]
  },
  {
   "cell_type": "code",
   "execution_count": 479,
   "metadata": {
    "collapsed": false
   },
   "outputs": [
    {
     "name": "stdout",
     "output_type": "stream",
     "text": [
      "Training...\n",
      "Epoch  1, CIFAR-10 Batch 1:  Loss:     2.2911 Validation Accuracy: 0.119400\n",
      "Epoch  1, CIFAR-10 Batch 2:  Loss:     2.2717 Validation Accuracy: 0.130000\n",
      "Epoch  1, CIFAR-10 Batch 3:  Loss:     2.2432 Validation Accuracy: 0.191800\n",
      "Epoch  1, CIFAR-10 Batch 4:  Loss:     2.2073 Validation Accuracy: 0.204600\n",
      "Epoch  1, CIFAR-10 Batch 5:  Loss:     2.1562 Validation Accuracy: 0.204600\n",
      "Epoch  2, CIFAR-10 Batch 1:  Loss:     2.0967 Validation Accuracy: 0.232400\n",
      "Epoch  2, CIFAR-10 Batch 2:  Loss:     2.0512 Validation Accuracy: 0.267000\n",
      "Epoch  2, CIFAR-10 Batch 3:  Loss:     2.0311 Validation Accuracy: 0.269600\n",
      "Epoch  2, CIFAR-10 Batch 4:  Loss:     2.0140 Validation Accuracy: 0.254600\n",
      "Epoch  2, CIFAR-10 Batch 5:  Loss:     1.9741 Validation Accuracy: 0.304000\n",
      "Epoch  3, CIFAR-10 Batch 1:  Loss:     1.9336 Validation Accuracy: 0.299400\n",
      "Epoch  3, CIFAR-10 Batch 2:  Loss:     1.9311 Validation Accuracy: 0.313800\n",
      "Epoch  3, CIFAR-10 Batch 3:  Loss:     1.8722 Validation Accuracy: 0.339000\n",
      "Epoch  3, CIFAR-10 Batch 4:  Loss:     1.8342 Validation Accuracy: 0.335400\n",
      "Epoch  3, CIFAR-10 Batch 5:  Loss:     1.8091 Validation Accuracy: 0.348600\n",
      "Epoch  4, CIFAR-10 Batch 1:  Loss:     1.7635 Validation Accuracy: 0.364200\n",
      "Epoch  4, CIFAR-10 Batch 2:  Loss:     1.7555 Validation Accuracy: 0.379800\n",
      "Epoch  4, CIFAR-10 Batch 3:  Loss:     1.6980 Validation Accuracy: 0.384200\n",
      "Epoch  4, CIFAR-10 Batch 4:  Loss:     1.6687 Validation Accuracy: 0.390600\n",
      "Epoch  4, CIFAR-10 Batch 5:  Loss:     1.6503 Validation Accuracy: 0.399600\n",
      "Epoch  5, CIFAR-10 Batch 1:  Loss:     1.6201 Validation Accuracy: 0.411800\n",
      "Epoch  5, CIFAR-10 Batch 2:  Loss:     1.6148 Validation Accuracy: 0.422200\n",
      "Epoch  5, CIFAR-10 Batch 3:  Loss:     1.6453 Validation Accuracy: 0.395800\n",
      "Epoch  5, CIFAR-10 Batch 4:  Loss:     1.5801 Validation Accuracy: 0.429400\n",
      "Epoch  5, CIFAR-10 Batch 5:  Loss:     1.5536 Validation Accuracy: 0.434600\n",
      "Epoch  6, CIFAR-10 Batch 1:  Loss:     1.5275 Validation Accuracy: 0.437400\n",
      "Epoch  6, CIFAR-10 Batch 2:  Loss:     1.5511 Validation Accuracy: 0.441400\n",
      "Epoch  6, CIFAR-10 Batch 3:  Loss:     1.5201 Validation Accuracy: 0.443600\n",
      "Epoch  6, CIFAR-10 Batch 4:  Loss:     1.5134 Validation Accuracy: 0.447600\n",
      "Epoch  6, CIFAR-10 Batch 5:  Loss:     1.4941 Validation Accuracy: 0.441600\n",
      "Epoch  7, CIFAR-10 Batch 1:  Loss:     1.4633 Validation Accuracy: 0.458000\n",
      "Epoch  7, CIFAR-10 Batch 2:  Loss:     1.4736 Validation Accuracy: 0.462800\n",
      "Epoch  7, CIFAR-10 Batch 3:  Loss:     1.4530 Validation Accuracy: 0.462200\n",
      "Epoch  7, CIFAR-10 Batch 4:  Loss:     1.4489 Validation Accuracy: 0.460400\n",
      "Epoch  7, CIFAR-10 Batch 5:  Loss:     1.4276 Validation Accuracy: 0.468600\n",
      "Epoch  8, CIFAR-10 Batch 1:  Loss:     1.4042 Validation Accuracy: 0.478000\n",
      "Epoch  8, CIFAR-10 Batch 2:  Loss:     1.4045 Validation Accuracy: 0.486200\n",
      "Epoch  8, CIFAR-10 Batch 3:  Loss:     1.3853 Validation Accuracy: 0.485600\n",
      "Epoch  8, CIFAR-10 Batch 4:  Loss:     1.3958 Validation Accuracy: 0.481600\n",
      "Epoch  8, CIFAR-10 Batch 5:  Loss:     1.3778 Validation Accuracy: 0.484000\n",
      "Epoch  9, CIFAR-10 Batch 1:  Loss:     1.3641 Validation Accuracy: 0.489000\n",
      "Epoch  9, CIFAR-10 Batch 2:  Loss:     1.3789 Validation Accuracy: 0.490600\n",
      "Epoch  9, CIFAR-10 Batch 3:  Loss:     1.3483 Validation Accuracy: 0.497000\n",
      "Epoch  9, CIFAR-10 Batch 4:  Loss:     1.3471 Validation Accuracy: 0.499000\n",
      "Epoch  9, CIFAR-10 Batch 5:  Loss:     1.3248 Validation Accuracy: 0.505800\n",
      "Epoch 10, CIFAR-10 Batch 1:  Loss:     1.3142 Validation Accuracy: 0.499800\n",
      "Epoch 10, CIFAR-10 Batch 2:  Loss:     1.3320 Validation Accuracy: 0.511600\n",
      "Epoch 10, CIFAR-10 Batch 3:  Loss:     1.3158 Validation Accuracy: 0.505000\n",
      "Epoch 10, CIFAR-10 Batch 4:  Loss:     1.3055 Validation Accuracy: 0.514600\n",
      "Epoch 10, CIFAR-10 Batch 5:  Loss:     1.2932 Validation Accuracy: 0.510400\n",
      "Epoch 11, CIFAR-10 Batch 1:  Loss:     1.2993 Validation Accuracy: 0.507800\n",
      "Epoch 11, CIFAR-10 Batch 2:  Loss:     1.3062 Validation Accuracy: 0.516000\n",
      "Epoch 11, CIFAR-10 Batch 3:  Loss:     1.3056 Validation Accuracy: 0.508200\n",
      "Epoch 11, CIFAR-10 Batch 4:  Loss:     1.2802 Validation Accuracy: 0.520800\n",
      "Epoch 11, CIFAR-10 Batch 5:  Loss:     1.2647 Validation Accuracy: 0.523400\n",
      "Epoch 12, CIFAR-10 Batch 1:  Loss:     1.2611 Validation Accuracy: 0.519400\n",
      "Epoch 12, CIFAR-10 Batch 2:  Loss:     1.2812 Validation Accuracy: 0.524600\n",
      "Epoch 12, CIFAR-10 Batch 3:  Loss:     1.2538 Validation Accuracy: 0.530200\n",
      "Epoch 12, CIFAR-10 Batch 4:  Loss:     1.2618 Validation Accuracy: 0.524000\n",
      "Epoch 12, CIFAR-10 Batch 5:  Loss:     1.2575 Validation Accuracy: 0.520400\n",
      "Epoch 13, CIFAR-10 Batch 1:  Loss:     1.2482 Validation Accuracy: 0.520000\n",
      "Epoch 13, CIFAR-10 Batch 2:  Loss:     1.2548 Validation Accuracy: 0.530000\n",
      "Epoch 13, CIFAR-10 Batch 3:  Loss:     1.2393 Validation Accuracy: 0.535200\n",
      "Epoch 13, CIFAR-10 Batch 4:  Loss:     1.2302 Validation Accuracy: 0.536600\n",
      "Epoch 13, CIFAR-10 Batch 5:  Loss:     1.2115 Validation Accuracy: 0.531400\n",
      "Epoch 14, CIFAR-10 Batch 1:  Loss:     1.2108 Validation Accuracy: 0.534600\n",
      "Epoch 14, CIFAR-10 Batch 2:  Loss:     1.2160 Validation Accuracy: 0.541200\n",
      "Epoch 14, CIFAR-10 Batch 3:  Loss:     1.2063 Validation Accuracy: 0.546200\n",
      "Epoch 14, CIFAR-10 Batch 4:  Loss:     1.2081 Validation Accuracy: 0.537000\n",
      "Epoch 14, CIFAR-10 Batch 5:  Loss:     1.1795 Validation Accuracy: 0.544400\n",
      "Epoch 15, CIFAR-10 Batch 1:  Loss:     1.1891 Validation Accuracy: 0.533200\n",
      "Epoch 15, CIFAR-10 Batch 2:  Loss:     1.1790 Validation Accuracy: 0.553600\n",
      "Epoch 15, CIFAR-10 Batch 3:  Loss:     1.1766 Validation Accuracy: 0.556000\n",
      "Epoch 15, CIFAR-10 Batch 4:  Loss:     1.1815 Validation Accuracy: 0.546000\n",
      "Epoch 15, CIFAR-10 Batch 5:  Loss:     1.1854 Validation Accuracy: 0.540200\n",
      "Epoch 16, CIFAR-10 Batch 1:  Loss:     1.1781 Validation Accuracy: 0.535600\n",
      "Epoch 16, CIFAR-10 Batch 2:  Loss:     1.1746 Validation Accuracy: 0.558400\n",
      "Epoch 16, CIFAR-10 Batch 3:  Loss:     1.1605 Validation Accuracy: 0.551200\n",
      "Epoch 16, CIFAR-10 Batch 4:  Loss:     1.1549 Validation Accuracy: 0.556600\n",
      "Epoch 16, CIFAR-10 Batch 5:  Loss:     1.1263 Validation Accuracy: 0.560000\n",
      "Epoch 17, CIFAR-10 Batch 1:  Loss:     1.1234 Validation Accuracy: 0.555600\n",
      "Epoch 17, CIFAR-10 Batch 2:  Loss:     1.1353 Validation Accuracy: 0.562600\n",
      "Epoch 17, CIFAR-10 Batch 3:  Loss:     1.1390 Validation Accuracy: 0.559200\n",
      "Epoch 17, CIFAR-10 Batch 4:  Loss:     1.1260 Validation Accuracy: 0.561800\n",
      "Epoch 17, CIFAR-10 Batch 5:  Loss:     1.1038 Validation Accuracy: 0.560200\n",
      "Epoch 18, CIFAR-10 Batch 1:  Loss:     1.1017 Validation Accuracy: 0.559600\n",
      "Epoch 18, CIFAR-10 Batch 2:  Loss:     1.1101 Validation Accuracy: 0.569400\n",
      "Epoch 18, CIFAR-10 Batch 3:  Loss:     1.1186 Validation Accuracy: 0.567800\n",
      "Epoch 18, CIFAR-10 Batch 4:  Loss:     1.1126 Validation Accuracy: 0.556000\n",
      "Epoch 18, CIFAR-10 Batch 5:  Loss:     1.1030 Validation Accuracy: 0.559400\n",
      "Epoch 19, CIFAR-10 Batch 1:  Loss:     1.0921 Validation Accuracy: 0.563600\n",
      "Epoch 19, CIFAR-10 Batch 2:  Loss:     1.1094 Validation Accuracy: 0.572800\n",
      "Epoch 19, CIFAR-10 Batch 3:  Loss:     1.0998 Validation Accuracy: 0.570200\n",
      "Epoch 19, CIFAR-10 Batch 4:  Loss:     1.0962 Validation Accuracy: 0.567800\n",
      "Epoch 19, CIFAR-10 Batch 5:  Loss:     1.0695 Validation Accuracy: 0.567000\n",
      "Epoch 20, CIFAR-10 Batch 1:  Loss:     1.0770 Validation Accuracy: 0.564000\n",
      "Epoch 20, CIFAR-10 Batch 2:  Loss:     1.0778 Validation Accuracy: 0.579400\n",
      "Epoch 20, CIFAR-10 Batch 3:  Loss:     1.0728 Validation Accuracy: 0.576600\n",
      "Epoch 20, CIFAR-10 Batch 4:  Loss:     1.0690 Validation Accuracy: 0.573800\n",
      "Epoch 20, CIFAR-10 Batch 5:  Loss:     1.0373 Validation Accuracy: 0.575400\n",
      "Epoch 21, CIFAR-10 Batch 1:  Loss:     1.0544 Validation Accuracy: 0.571400\n",
      "Epoch 21, CIFAR-10 Batch 2:  Loss:     1.0467 Validation Accuracy: 0.582400\n",
      "Epoch 21, CIFAR-10 Batch 3:  Loss:     1.0447 Validation Accuracy: 0.586200\n",
      "Epoch 21, CIFAR-10 Batch 4:  Loss:     1.0388 Validation Accuracy: 0.580200\n",
      "Epoch 21, CIFAR-10 Batch 5:  Loss:     1.0400 Validation Accuracy: 0.574200\n",
      "Epoch 22, CIFAR-10 Batch 1:  Loss:     1.0249 Validation Accuracy: 0.575600\n",
      "Epoch 22, CIFAR-10 Batch 2:  Loss:     1.0437 Validation Accuracy: 0.574000\n",
      "Epoch 22, CIFAR-10 Batch 3:  Loss:     1.0289 Validation Accuracy: 0.590200\n",
      "Epoch 22, CIFAR-10 Batch 4:  Loss:     1.0569 Validation Accuracy: 0.561400\n",
      "Epoch 22, CIFAR-10 Batch 5:  Loss:     1.0307 Validation Accuracy: 0.577200\n",
      "Epoch 23, CIFAR-10 Batch 1:  Loss:     1.0415 Validation Accuracy: 0.570600\n",
      "Epoch 23, CIFAR-10 Batch 2:  Loss:     1.0329 Validation Accuracy: 0.582400\n",
      "Epoch 23, CIFAR-10 Batch 3:  Loss:     1.0339 Validation Accuracy: 0.573800\n",
      "Epoch 23, CIFAR-10 Batch 4:  Loss:     1.0106 Validation Accuracy: 0.585600\n",
      "Epoch 23, CIFAR-10 Batch 5:  Loss:     0.9916 Validation Accuracy: 0.579400\n",
      "Epoch 24, CIFAR-10 Batch 1:  Loss:     1.0011 Validation Accuracy: 0.580800\n",
      "Epoch 24, CIFAR-10 Batch 2:  Loss:     0.9971 Validation Accuracy: 0.583400\n",
      "Epoch 24, CIFAR-10 Batch 3:  Loss:     0.9813 Validation Accuracy: 0.591000\n",
      "Epoch 24, CIFAR-10 Batch 4:  Loss:     1.0002 Validation Accuracy: 0.583400\n",
      "Epoch 24, CIFAR-10 Batch 5:  Loss:     0.9946 Validation Accuracy: 0.582400\n",
      "Epoch 25, CIFAR-10 Batch 1:  Loss:     0.9812 Validation Accuracy: 0.585600\n",
      "Epoch 25, CIFAR-10 Batch 2:  Loss:     0.9810 Validation Accuracy: 0.593200\n",
      "Epoch 25, CIFAR-10 Batch 3:  Loss:     0.9836 Validation Accuracy: 0.590400\n",
      "Epoch 25, CIFAR-10 Batch 4:  Loss:     0.9827 Validation Accuracy: 0.583200\n",
      "Epoch 25, CIFAR-10 Batch 5:  Loss:     0.9617 Validation Accuracy: 0.592400\n",
      "Epoch 26, CIFAR-10 Batch 1:  Loss:     0.9556 Validation Accuracy: 0.587600\n",
      "Epoch 26, CIFAR-10 Batch 2:  Loss:     0.9600 Validation Accuracy: 0.599400\n",
      "Epoch 26, CIFAR-10 Batch 3:  Loss:     0.9673 Validation Accuracy: 0.592400\n",
      "Epoch 26, CIFAR-10 Batch 4:  Loss:     0.9498 Validation Accuracy: 0.598000\n",
      "Epoch 26, CIFAR-10 Batch 5:  Loss:     0.9224 Validation Accuracy: 0.601600\n",
      "Epoch 27, CIFAR-10 Batch 1:  Loss:     0.9344 Validation Accuracy: 0.592000\n",
      "Epoch 27, CIFAR-10 Batch 2:  Loss:     0.9308 Validation Accuracy: 0.602400\n",
      "Epoch 27, CIFAR-10 Batch 3:  Loss:     0.9251 Validation Accuracy: 0.604600\n",
      "Epoch 27, CIFAR-10 Batch 4:  Loss:     0.9245 Validation Accuracy: 0.601600\n",
      "Epoch 27, CIFAR-10 Batch 5:  Loss:     0.9134 Validation Accuracy: 0.598600\n",
      "Epoch 28, CIFAR-10 Batch 1:  Loss:     0.9391 Validation Accuracy: 0.593400\n",
      "Epoch 28, CIFAR-10 Batch 2:  Loss:     0.9705 Validation Accuracy: 0.585000\n",
      "Epoch 28, CIFAR-10 Batch 3:  Loss:     0.9322 Validation Accuracy: 0.599000\n",
      "Epoch 28, CIFAR-10 Batch 4:  Loss:     0.9237 Validation Accuracy: 0.597200\n",
      "Epoch 28, CIFAR-10 Batch 5:  Loss:     0.9329 Validation Accuracy: 0.590200\n",
      "Epoch 29, CIFAR-10 Batch 1:  Loss:     0.9298 Validation Accuracy: 0.593000\n",
      "Epoch 29, CIFAR-10 Batch 2:  Loss:     0.9485 Validation Accuracy: 0.595600\n",
      "Epoch 29, CIFAR-10 Batch 3:  Loss:     0.9636 Validation Accuracy: 0.592200\n",
      "Epoch 29, CIFAR-10 Batch 4:  Loss:     0.9408 Validation Accuracy: 0.589800\n",
      "Epoch 29, CIFAR-10 Batch 5:  Loss:     0.8913 Validation Accuracy: 0.605200\n",
      "Epoch 30, CIFAR-10 Batch 1:  Loss:     0.8975 Validation Accuracy: 0.603800\n",
      "Epoch 30, CIFAR-10 Batch 2:  Loss:     0.8988 Validation Accuracy: 0.609600\n",
      "Epoch 30, CIFAR-10 Batch 3:  Loss:     0.8882 Validation Accuracy: 0.609600\n",
      "Epoch 30, CIFAR-10 Batch 4:  Loss:     0.8998 Validation Accuracy: 0.596000\n",
      "Epoch 30, CIFAR-10 Batch 5:  Loss:     0.8670 Validation Accuracy: 0.610600\n",
      "Epoch 31, CIFAR-10 Batch 1:  Loss:     0.8794 Validation Accuracy: 0.601400\n",
      "Epoch 31, CIFAR-10 Batch 2:  Loss:     0.8902 Validation Accuracy: 0.608400\n",
      "Epoch 31, CIFAR-10 Batch 3:  Loss:     0.8965 Validation Accuracy: 0.603000\n",
      "Epoch 31, CIFAR-10 Batch 4:  Loss:     0.8885 Validation Accuracy: 0.605200\n",
      "Epoch 31, CIFAR-10 Batch 5:  Loss:     0.8625 Validation Accuracy: 0.606200\n",
      "Epoch 32, CIFAR-10 Batch 1:  Loss:     0.8677 Validation Accuracy: 0.604800\n",
      "Epoch 32, CIFAR-10 Batch 2:  Loss:     0.8587 Validation Accuracy: 0.610600\n",
      "Epoch 32, CIFAR-10 Batch 3:  Loss:     0.8533 Validation Accuracy: 0.619200\n",
      "Epoch 32, CIFAR-10 Batch 4:  Loss:     0.8541 Validation Accuracy: 0.606200\n",
      "Epoch 32, CIFAR-10 Batch 5:  Loss:     0.8286 Validation Accuracy: 0.616000\n",
      "Epoch 33, CIFAR-10 Batch 1:  Loss:     0.8251 Validation Accuracy: 0.611400\n",
      "Epoch 33, CIFAR-10 Batch 2:  Loss:     0.8354 Validation Accuracy: 0.617800\n",
      "Epoch 33, CIFAR-10 Batch 3:  Loss:     0.8389 Validation Accuracy: 0.612600\n",
      "Epoch 33, CIFAR-10 Batch 4:  Loss:     0.8408 Validation Accuracy: 0.605000\n",
      "Epoch 33, CIFAR-10 Batch 5:  Loss:     0.8233 Validation Accuracy: 0.618000\n",
      "Epoch 34, CIFAR-10 Batch 1:  Loss:     0.8217 Validation Accuracy: 0.608200\n",
      "Epoch 34, CIFAR-10 Batch 2:  Loss:     0.8255 Validation Accuracy: 0.620000\n",
      "Epoch 34, CIFAR-10 Batch 3:  Loss:     0.8331 Validation Accuracy: 0.610000\n",
      "Epoch 34, CIFAR-10 Batch 4:  Loss:     0.8299 Validation Accuracy: 0.612800\n",
      "Epoch 34, CIFAR-10 Batch 5:  Loss:     0.8203 Validation Accuracy: 0.616000\n",
      "Epoch 35, CIFAR-10 Batch 1:  Loss:     0.8101 Validation Accuracy: 0.615400\n",
      "Epoch 35, CIFAR-10 Batch 2:  Loss:     0.8319 Validation Accuracy: 0.614800\n",
      "Epoch 35, CIFAR-10 Batch 3:  Loss:     0.8129 Validation Accuracy: 0.615000\n",
      "Epoch 35, CIFAR-10 Batch 4:  Loss:     0.8147 Validation Accuracy: 0.617800\n",
      "Epoch 35, CIFAR-10 Batch 5:  Loss:     0.7773 Validation Accuracy: 0.620800\n",
      "Epoch 36, CIFAR-10 Batch 1:  Loss:     0.7937 Validation Accuracy: 0.620200\n",
      "Epoch 36, CIFAR-10 Batch 2:  Loss:     0.7983 Validation Accuracy: 0.625200\n",
      "Epoch 36, CIFAR-10 Batch 3:  Loss:     0.7895 Validation Accuracy: 0.615800\n",
      "Epoch 36, CIFAR-10 Batch 4:  Loss:     0.7854 Validation Accuracy: 0.620800\n",
      "Epoch 36, CIFAR-10 Batch 5:  Loss:     0.7536 Validation Accuracy: 0.622800\n",
      "Epoch 37, CIFAR-10 Batch 1:  Loss:     0.7705 Validation Accuracy: 0.622800\n",
      "Epoch 37, CIFAR-10 Batch 2:  Loss:     0.7729 Validation Accuracy: 0.624800\n",
      "Epoch 37, CIFAR-10 Batch 3:  Loss:     0.7674 Validation Accuracy: 0.619600\n",
      "Epoch 37, CIFAR-10 Batch 4:  Loss:     0.7690 Validation Accuracy: 0.623800\n",
      "Epoch 37, CIFAR-10 Batch 5:  Loss:     0.7275 Validation Accuracy: 0.627800\n",
      "Epoch 38, CIFAR-10 Batch 1:  Loss:     0.7518 Validation Accuracy: 0.623200\n",
      "Epoch 38, CIFAR-10 Batch 2:  Loss:     0.7459 Validation Accuracy: 0.629800\n",
      "Epoch 38, CIFAR-10 Batch 3:  Loss:     0.7564 Validation Accuracy: 0.624400\n",
      "Epoch 38, CIFAR-10 Batch 4:  Loss:     0.8128 Validation Accuracy: 0.601200\n",
      "Epoch 38, CIFAR-10 Batch 5:  Loss:     0.7359 Validation Accuracy: 0.625400\n",
      "Epoch 39, CIFAR-10 Batch 1:  Loss:     0.7454 Validation Accuracy: 0.623800\n",
      "Epoch 39, CIFAR-10 Batch 2:  Loss:     0.7557 Validation Accuracy: 0.624200\n",
      "Epoch 39, CIFAR-10 Batch 3:  Loss:     0.7545 Validation Accuracy: 0.627000\n",
      "Epoch 39, CIFAR-10 Batch 4:  Loss:     0.7476 Validation Accuracy: 0.620200\n",
      "Epoch 39, CIFAR-10 Batch 5:  Loss:     0.7334 Validation Accuracy: 0.624800\n",
      "Epoch 40, CIFAR-10 Batch 1:  Loss:     0.7525 Validation Accuracy: 0.621800\n",
      "Epoch 40, CIFAR-10 Batch 2:  Loss:     0.7325 Validation Accuracy: 0.628400\n",
      "Epoch 40, CIFAR-10 Batch 3:  Loss:     0.8366 Validation Accuracy: 0.596400\n",
      "Epoch 40, CIFAR-10 Batch 4:  Loss:     0.8109 Validation Accuracy: 0.602800\n",
      "Epoch 40, CIFAR-10 Batch 5:  Loss:     0.7656 Validation Accuracy: 0.616000\n",
      "Epoch 41, CIFAR-10 Batch 1:  Loss:     0.7847 Validation Accuracy: 0.607400\n",
      "Epoch 41, CIFAR-10 Batch 2:  Loss:     0.7832 Validation Accuracy: 0.620800\n",
      "Epoch 41, CIFAR-10 Batch 3:  Loss:     0.7582 Validation Accuracy: 0.613400\n",
      "Epoch 41, CIFAR-10 Batch 4:  Loss:     0.7721 Validation Accuracy: 0.612600\n",
      "Epoch 41, CIFAR-10 Batch 5:  Loss:     0.7452 Validation Accuracy: 0.611800\n",
      "Epoch 42, CIFAR-10 Batch 1:  Loss:     0.7538 Validation Accuracy: 0.619600\n",
      "Epoch 42, CIFAR-10 Batch 2:  Loss:     0.7715 Validation Accuracy: 0.610800\n",
      "Epoch 42, CIFAR-10 Batch 3:  Loss:     0.7554 Validation Accuracy: 0.615200\n",
      "Epoch 42, CIFAR-10 Batch 4:  Loss:     0.7493 Validation Accuracy: 0.609200\n",
      "Epoch 42, CIFAR-10 Batch 5:  Loss:     0.7377 Validation Accuracy: 0.616000\n",
      "Epoch 43, CIFAR-10 Batch 1:  Loss:     0.7234 Validation Accuracy: 0.615800\n",
      "Epoch 43, CIFAR-10 Batch 2:  Loss:     0.7373 Validation Accuracy: 0.627800\n",
      "Epoch 43, CIFAR-10 Batch 3:  Loss:     0.7298 Validation Accuracy: 0.620200\n",
      "Epoch 43, CIFAR-10 Batch 4:  Loss:     0.7239 Validation Accuracy: 0.627200\n",
      "Epoch 43, CIFAR-10 Batch 5:  Loss:     0.7148 Validation Accuracy: 0.622000\n",
      "Epoch 44, CIFAR-10 Batch 1:  Loss:     0.6952 Validation Accuracy: 0.631400\n",
      "Epoch 44, CIFAR-10 Batch 2:  Loss:     0.6839 Validation Accuracy: 0.634600\n",
      "Epoch 44, CIFAR-10 Batch 3:  Loss:     0.6925 Validation Accuracy: 0.638000\n",
      "Epoch 44, CIFAR-10 Batch 4:  Loss:     0.7472 Validation Accuracy: 0.606600\n",
      "Epoch 44, CIFAR-10 Batch 5:  Loss:     0.7474 Validation Accuracy: 0.611200\n",
      "Epoch 45, CIFAR-10 Batch 1:  Loss:     0.7250 Validation Accuracy: 0.620800\n",
      "Epoch 45, CIFAR-10 Batch 2:  Loss:     0.7031 Validation Accuracy: 0.620600\n",
      "Epoch 45, CIFAR-10 Batch 3:  Loss:     0.7018 Validation Accuracy: 0.629600\n",
      "Epoch 45, CIFAR-10 Batch 4:  Loss:     0.7003 Validation Accuracy: 0.620000\n",
      "Epoch 45, CIFAR-10 Batch 5:  Loss:     0.6624 Validation Accuracy: 0.626600\n",
      "Epoch 46, CIFAR-10 Batch 1:  Loss:     0.6696 Validation Accuracy: 0.632800\n",
      "Epoch 46, CIFAR-10 Batch 2:  Loss:     0.6857 Validation Accuracy: 0.623200\n",
      "Epoch 46, CIFAR-10 Batch 3:  Loss:     0.6684 Validation Accuracy: 0.627800\n",
      "Epoch 46, CIFAR-10 Batch 4:  Loss:     0.6484 Validation Accuracy: 0.627000\n",
      "Epoch 46, CIFAR-10 Batch 5:  Loss:     0.6355 Validation Accuracy: 0.636400\n",
      "Epoch 47, CIFAR-10 Batch 1:  Loss:     0.6451 Validation Accuracy: 0.634400\n",
      "Epoch 47, CIFAR-10 Batch 2:  Loss:     0.6568 Validation Accuracy: 0.628800\n",
      "Epoch 47, CIFAR-10 Batch 3:  Loss:     0.6355 Validation Accuracy: 0.635800\n",
      "Epoch 47, CIFAR-10 Batch 4:  Loss:     0.6294 Validation Accuracy: 0.635400\n",
      "Epoch 47, CIFAR-10 Batch 5:  Loss:     0.6226 Validation Accuracy: 0.639800\n",
      "Epoch 48, CIFAR-10 Batch 1:  Loss:     0.6299 Validation Accuracy: 0.638600\n",
      "Epoch 48, CIFAR-10 Batch 2:  Loss:     0.6251 Validation Accuracy: 0.639800\n",
      "Epoch 48, CIFAR-10 Batch 3:  Loss:     0.6235 Validation Accuracy: 0.641600\n",
      "Epoch 48, CIFAR-10 Batch 4:  Loss:     0.6248 Validation Accuracy: 0.625200\n",
      "Epoch 48, CIFAR-10 Batch 5:  Loss:     0.6109 Validation Accuracy: 0.636600\n",
      "Epoch 49, CIFAR-10 Batch 1:  Loss:     0.6062 Validation Accuracy: 0.635600\n",
      "Epoch 49, CIFAR-10 Batch 2:  Loss:     0.6197 Validation Accuracy: 0.644200\n",
      "Epoch 49, CIFAR-10 Batch 3:  Loss:     0.6116 Validation Accuracy: 0.636400\n",
      "Epoch 49, CIFAR-10 Batch 4:  Loss:     0.6075 Validation Accuracy: 0.634200\n",
      "Epoch 49, CIFAR-10 Batch 5:  Loss:     0.5940 Validation Accuracy: 0.638000\n",
      "Epoch 50, CIFAR-10 Batch 1:  Loss:     0.6078 Validation Accuracy: 0.631400\n",
      "Epoch 50, CIFAR-10 Batch 2:  Loss:     0.6025 Validation Accuracy: 0.645400\n",
      "Epoch 50, CIFAR-10 Batch 3:  Loss:     0.5960 Validation Accuracy: 0.640200\n",
      "Epoch 50, CIFAR-10 Batch 4:  Loss:     0.5819 Validation Accuracy: 0.643400\n",
      "Epoch 50, CIFAR-10 Batch 5:  Loss:     0.5702 Validation Accuracy: 0.640200\n"
     ]
    }
   ],
   "source": [
    "\"\"\"\n",
    "DON'T MODIFY ANYTHING IN THIS CELL\n",
    "\"\"\"\n",
    "save_model_path = './image_classification'\n",
    "\n",
    "print('Training...')\n",
    "with tf.Session() as sess:\n",
    "    # Initializing the variables\n",
    "    sess.run(tf.global_variables_initializer())\n",
    "    \n",
    "    # Training cycle\n",
    "    for epoch in range(epochs):\n",
    "        # Loop over all batches\n",
    "        n_batches = 5\n",
    "        for batch_i in range(1, n_batches + 1):\n",
    "            for batch_features, batch_labels in helper.load_preprocess_training_batch(batch_i, batch_size):\n",
    "                train_neural_network(sess, optimizer, keep_probability, batch_features, batch_labels)\n",
    "            print('Epoch {:>2}, CIFAR-10 Batch {}:  '.format(epoch + 1, batch_i), end='')\n",
    "            print_stats(sess, batch_features, batch_labels, cost, accuracy)\n",
    "            \n",
    "    # Save Model\n",
    "    saver = tf.train.Saver()\n",
    "    save_path = saver.save(sess, save_model_path)"
   ]
  },
  {
   "cell_type": "markdown",
   "metadata": {},
   "source": [
    "# Checkpoint\n",
    "The model has been saved to disk.\n",
    "## Test Model\n",
    "Test your model against the test dataset.  This will be your final accuracy. You should have an accuracy greater than 50%. If you don't, keep tweaking the model architecture and parameters."
   ]
  },
  {
   "cell_type": "code",
   "execution_count": 480,
   "metadata": {
    "collapsed": false
   },
   "outputs": [
    {
     "name": "stdout",
     "output_type": "stream",
     "text": [
      "Testing Accuracy: 0.6354428231716156\n",
      "\n"
     ]
    },
    {
     "data": {
      "image/png": "[encoded data removed]",
      "text/plain": [
       "<matplotlib.figure.Figure at 0x12074ff60>"
      ]
     },
     "metadata": {
      "image/png": {
       "height": 319,
       "width": 355
      }
     },
     "output_type": "display_data"
    }
   ],
   "source": [
    "\"\"\"\n",
    "DON'T MODIFY ANYTHING IN THIS CELL\n",
    "\"\"\"\n",
    "%matplotlib inline\n",
    "%config InlineBackend.figure_format = 'retina'\n",
    "\n",
    "import tensorflow as tf\n",
    "import pickle\n",
    "import helper\n",
    "import random\n",
    "\n",
    "# Set batch size if not already set\n",
    "try:\n",
    "    if batch_size:\n",
    "        pass\n",
    "except NameError:\n",
    "    batch_size = 64\n",
    "\n",
    "save_model_path = './image_classification'\n",
    "n_samples = 4\n",
    "top_n_predictions = 3\n",
    "\n",
    "def test_model():\n",
    "    \"\"\"\n",
    "    Test the saved model against the test dataset\n",
    "    \"\"\"\n",
    "\n",
    "    test_features, test_labels = pickle.load(open('preprocess_training.p', mode='rb'))\n",
    "    loaded_graph = tf.Graph()\n",
    "\n",
    "    with tf.Session(graph=loaded_graph) as sess:\n",
    "        # Load model\n",
    "        loader = tf.train.import_meta_graph(save_model_path + '.meta')\n",
    "        loader.restore(sess, save_model_path)\n",
    "\n",
    "        # Get Tensors from loaded model\n",
    "        loaded_x = loaded_graph.get_tensor_by_name('x:0')\n",
    "        loaded_y = loaded_graph.get_tensor_by_name('y:0')\n",
    "        loaded_keep_prob = loaded_graph.get_tensor_by_name('keep_prob:0')\n",
    "        loaded_logits = loaded_graph.get_tensor_by_name('logits:0')\n",
    "        loaded_acc = loaded_graph.get_tensor_by_name('accuracy:0')\n",
    "        \n",
    "        # Get accuracy in batches for memory limitations\n",
    "        test_batch_acc_total = 0\n",
    "        test_batch_count = 0\n",
    "        \n",
    "        for train_feature_batch, train_label_batch in helper.batch_features_labels(test_features, test_labels, batch_size):\n",
    "            test_batch_acc_total += sess.run(\n",
    "                loaded_acc,\n",
    "                feed_dict={loaded_x: train_feature_batch, loaded_y: train_label_batch, loaded_keep_prob: 1.0})\n",
    "            test_batch_count += 1\n",
    "\n",
    "        print('Testing Accuracy: {}\\n'.format(test_batch_acc_total/test_batch_count))\n",
    "\n",
    "        # Print Random Samples\n",
    "        random_test_features, random_test_labels = tuple(zip(*random.sample(list(zip(test_features, test_labels)), n_samples)))\n",
    "        random_test_predictions = sess.run(\n",
    "            tf.nn.top_k(tf.nn.softmax(loaded_logits), top_n_predictions),\n",
    "            feed_dict={loaded_x: random_test_features, loaded_y: random_test_labels, loaded_keep_prob: 1.0})\n",
    "        helper.display_image_predictions(random_test_features, random_test_labels, random_test_predictions)\n",
    "\n",
    "\n",
    "test_model()"
   ]
  },
  {
   "cell_type": "markdown",
   "metadata": {},
   "source": [
    "## Why 50-70% Accuracy?\n",
    "You might be wondering why you can't get an accuracy any higher. First things first, 50% isn't bad for a simple CNN.  Pure guessing would get you 10% accuracy. However, you might notice people are getting scores [well above 70%](http://rodrigob.github.io/are_we_there_yet/build/classification_datasets_results.html#43494641522d3130).  That's because we haven't taught you all there is to know about neural networks. We still need to cover a few more techniques.\n",
    "## Submitting This Project\n",
    "When submitting this project, make sure to run all the cells before saving the notebook.  Save the notebook file as \"dlnd_image_classification.ipynb\" and save it as a HTML file under \"File\" -> \"Download as\".  Include the \"helper.py\" and \"problem_unittests.py\" files in your submission."
   ]
  }
 ],
 "metadata": {
  "kernelspec": {
   "display_name": "Python 3",
   "language": "python",
   "name": "python3"
  },
  "language_info": {
   "codemirror_mode": {
    "name": "ipython",
    "version": 3
   },
   "file_extension": ".py",
   "mimetype": "text/x-python",
   "name": "python",
   "nbconvert_exporter": "python",
   "pygments_lexer": "ipython3",
   "version": "3.5.2"
  }
 },
 "nbformat": 4,
 "nbformat_minor": 0
}
